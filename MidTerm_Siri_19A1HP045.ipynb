{
 "cells": [
  {
   "cell_type": "markdown",
   "metadata": {},
   "source": [
    "# Siri Saladi 19A1HP045"
   ]
  },
  {
   "cell_type": "code",
   "execution_count": 1,
   "metadata": {},
   "outputs": [],
   "source": [
    "import pandas as pd #calling pandas library to import the dataset\n",
    "import numpy as np #Numpy library is called to perform mathematical computations "
   ]
  },
  {
   "cell_type": "code",
   "execution_count": 2,
   "metadata": {},
   "outputs": [],
   "source": [
    "adv_df=pd.read_csv(r\"Advertising.csv\") #Reading dataset named Advertising from working directory to pandas dataframe"
   ]
  },
  {
   "cell_type": "code",
   "execution_count": 3,
   "metadata": {},
   "outputs": [
    {
     "name": "stdout",
     "output_type": "stream",
     "text": [
      "<class 'pandas.core.frame.DataFrame'>\n",
      "RangeIndex: 200 entries, 0 to 199\n",
      "Data columns (total 6 columns):\n",
      "Sno          200 non-null int64\n",
      "TV           199 non-null float64\n",
      "Radio        199 non-null float64\n",
      "Newspaper    199 non-null float64\n",
      "Day          197 non-null object\n",
      "Sales        200 non-null float64\n",
      "dtypes: float64(4), int64(1), object(1)\n",
      "memory usage: 9.5+ KB\n"
     ]
    }
   ],
   "source": [
    "adv_df.info() #To print summary of dataframe"
   ]
  },
  {
   "cell_type": "markdown",
   "metadata": {},
   "source": [
    "## Q1 From the output we can say that each variable has been read appropriately."
   ]
  },
  {
   "cell_type": "code",
   "execution_count": 4,
   "metadata": {},
   "outputs": [],
   "source": [
    "adv_df = adv_df.dropna()#To drop missing values from the dataset\n"
   ]
  },
  {
   "cell_type": "code",
   "execution_count": 5,
   "metadata": {},
   "outputs": [
    {
     "name": "stdout",
     "output_type": "stream",
     "text": [
      "<class 'pandas.core.frame.DataFrame'>\n",
      "Int64Index: 197 entries, 0 to 199\n",
      "Data columns (total 6 columns):\n",
      "Sno          197 non-null int64\n",
      "TV           197 non-null float64\n",
      "Radio        197 non-null float64\n",
      "Newspaper    197 non-null float64\n",
      "Day          197 non-null object\n",
      "Sales        197 non-null float64\n",
      "dtypes: float64(4), int64(1), object(1)\n",
      "memory usage: 10.8+ KB\n"
     ]
    }
   ],
   "source": [
    "adv_df.info()"
   ]
  },
  {
   "cell_type": "markdown",
   "metadata": {},
   "source": [
    "## Q2 Hence missing values have been dropped. 3 Rows have been deleted."
   ]
  },
  {
   "cell_type": "markdown",
   "metadata": {},
   "source": [
    "## Q3 Encoding Categorical Variables"
   ]
  },
  {
   "cell_type": "code",
   "execution_count": 6,
   "metadata": {},
   "outputs": [
    {
     "data": {
      "text/plain": [
       "array(['Weekend', 'Weekdays', 'Holiday'], dtype=object)"
      ]
     },
     "execution_count": 6,
     "metadata": {},
     "output_type": "execute_result"
    }
   ],
   "source": [
    "adv_df['Day'].unique() #From info we understood Day is an object type variable. So encode it to numeric\n"
   ]
  },
  {
   "cell_type": "code",
   "execution_count": 7,
   "metadata": {},
   "outputs": [
    {
     "data": {
      "text/html": [
       "<div>\n",
       "<style scoped>\n",
       "    .dataframe tbody tr th:only-of-type {\n",
       "        vertical-align: middle;\n",
       "    }\n",
       "\n",
       "    .dataframe tbody tr th {\n",
       "        vertical-align: top;\n",
       "    }\n",
       "\n",
       "    .dataframe thead th {\n",
       "        text-align: right;\n",
       "    }\n",
       "</style>\n",
       "<table border=\"1\" class=\"dataframe\">\n",
       "  <thead>\n",
       "    <tr style=\"text-align: right;\">\n",
       "      <th></th>\n",
       "      <th>Holiday</th>\n",
       "      <th>Weekdays</th>\n",
       "      <th>Weekend</th>\n",
       "    </tr>\n",
       "  </thead>\n",
       "  <tbody>\n",
       "    <tr>\n",
       "      <th>0</th>\n",
       "      <td>0</td>\n",
       "      <td>0</td>\n",
       "      <td>1</td>\n",
       "    </tr>\n",
       "    <tr>\n",
       "      <th>1</th>\n",
       "      <td>0</td>\n",
       "      <td>1</td>\n",
       "      <td>0</td>\n",
       "    </tr>\n",
       "    <tr>\n",
       "      <th>2</th>\n",
       "      <td>0</td>\n",
       "      <td>1</td>\n",
       "      <td>0</td>\n",
       "    </tr>\n",
       "    <tr>\n",
       "      <th>3</th>\n",
       "      <td>0</td>\n",
       "      <td>1</td>\n",
       "      <td>0</td>\n",
       "    </tr>\n",
       "    <tr>\n",
       "      <th>4</th>\n",
       "      <td>0</td>\n",
       "      <td>1</td>\n",
       "      <td>0</td>\n",
       "    </tr>\n",
       "  </tbody>\n",
       "</table>\n",
       "</div>"
      ],
      "text/plain": [
       "   Holiday  Weekdays  Weekend\n",
       "0        0         0        1\n",
       "1        0         1        0\n",
       "2        0         1        0\n",
       "3        0         1        0\n",
       "4        0         1        0"
      ]
     },
     "execution_count": 7,
     "metadata": {},
     "output_type": "execute_result"
    }
   ],
   "source": [
    "pd.get_dummies(adv_df['Day'])[0:5] #Assigned dummy variables for the categorical variable. And printing the first rows \n"
   ]
  },
  {
   "cell_type": "code",
   "execution_count": 8,
   "metadata": {},
   "outputs": [],
   "source": [
    "categorical_features = ['Day'] #Assigned Day column to categorical features"
   ]
  },
  {
   "cell_type": "code",
   "execution_count": 9,
   "metadata": {},
   "outputs": [
    {
     "data": {
      "text/plain": [
       "Index(['Sno', 'TV', 'Radio', 'Newspaper', 'Day', 'Sales'], dtype='object')"
      ]
     },
     "execution_count": 9,
     "metadata": {},
     "output_type": "execute_result"
    }
   ],
   "source": [
    "X_features=adv_df.columns\n",
    "X_features"
   ]
  },
  {
   "cell_type": "code",
   "execution_count": 10,
   "metadata": {},
   "outputs": [],
   "source": [
    "X_features=['TV','Radio','Newspaper','Day'] #Considering only significant independant variables"
   ]
  },
  {
   "cell_type": "code",
   "execution_count": 11,
   "metadata": {},
   "outputs": [
    {
     "data": {
      "text/plain": [
       "['TV', 'Radio', 'Newspaper', 'Day']"
      ]
     },
     "execution_count": 11,
     "metadata": {},
     "output_type": "execute_result"
    }
   ],
   "source": [
    "X_features"
   ]
  },
  {
   "cell_type": "code",
   "execution_count": 12,
   "metadata": {},
   "outputs": [],
   "source": [
    "adv_df_encoded = pd.get_dummies(adv_df[X_features], columns = categorical_features) \n",
    "#Encoded the categorical variables in data frame"
   ]
  },
  {
   "cell_type": "code",
   "execution_count": 13,
   "metadata": {},
   "outputs": [
    {
     "data": {
      "text/plain": [
       "Index(['TV', 'Radio', 'Newspaper', 'Day_Holiday', 'Day_Weekdays',\n",
       "       'Day_Weekend'],\n",
       "      dtype='object')"
      ]
     },
     "execution_count": 13,
     "metadata": {},
     "output_type": "execute_result"
    }
   ],
   "source": [
    "adv_df_encoded.columns"
   ]
  },
  {
   "cell_type": "markdown",
   "metadata": {},
   "source": [
    "## Q4 Descriptive Summary of all numericals"
   ]
  },
  {
   "cell_type": "code",
   "execution_count": 14,
   "metadata": {},
   "outputs": [
    {
     "data": {
      "text/html": [
       "<div>\n",
       "<style scoped>\n",
       "    .dataframe tbody tr th:only-of-type {\n",
       "        vertical-align: middle;\n",
       "    }\n",
       "\n",
       "    .dataframe tbody tr th {\n",
       "        vertical-align: top;\n",
       "    }\n",
       "\n",
       "    .dataframe thead th {\n",
       "        text-align: right;\n",
       "    }\n",
       "</style>\n",
       "<table border=\"1\" class=\"dataframe\">\n",
       "  <thead>\n",
       "    <tr style=\"text-align: right;\">\n",
       "      <th></th>\n",
       "      <th>Sno</th>\n",
       "      <th>TV</th>\n",
       "      <th>Radio</th>\n",
       "      <th>Newspaper</th>\n",
       "      <th>Sales</th>\n",
       "    </tr>\n",
       "  </thead>\n",
       "  <tbody>\n",
       "    <tr>\n",
       "      <th>count</th>\n",
       "      <td>197.000000</td>\n",
       "      <td>197.000000</td>\n",
       "      <td>197.000000</td>\n",
       "      <td>197.000000</td>\n",
       "      <td>197.000000</td>\n",
       "    </tr>\n",
       "    <tr>\n",
       "      <th>mean</th>\n",
       "      <td>101.375635</td>\n",
       "      <td>146.242132</td>\n",
       "      <td>23.152284</td>\n",
       "      <td>30.375635</td>\n",
       "      <td>14.102030</td>\n",
       "    </tr>\n",
       "    <tr>\n",
       "      <th>std</th>\n",
       "      <td>57.818691</td>\n",
       "      <td>85.439138</td>\n",
       "      <td>14.922793</td>\n",
       "      <td>20.972370</td>\n",
       "      <td>5.192302</td>\n",
       "    </tr>\n",
       "    <tr>\n",
       "      <th>min</th>\n",
       "      <td>1.000000</td>\n",
       "      <td>0.700000</td>\n",
       "      <td>0.000000</td>\n",
       "      <td>0.300000</td>\n",
       "      <td>1.600000</td>\n",
       "    </tr>\n",
       "    <tr>\n",
       "      <th>25%</th>\n",
       "      <td>52.000000</td>\n",
       "      <td>74.700000</td>\n",
       "      <td>9.900000</td>\n",
       "      <td>12.900000</td>\n",
       "      <td>10.400000</td>\n",
       "    </tr>\n",
       "    <tr>\n",
       "      <th>50%</th>\n",
       "      <td>102.000000</td>\n",
       "      <td>149.700000</td>\n",
       "      <td>22.300000</td>\n",
       "      <td>25.900000</td>\n",
       "      <td>12.900000</td>\n",
       "    </tr>\n",
       "    <tr>\n",
       "      <th>75%</th>\n",
       "      <td>151.000000</td>\n",
       "      <td>218.400000</td>\n",
       "      <td>36.500000</td>\n",
       "      <td>45.100000</td>\n",
       "      <td>17.400000</td>\n",
       "    </tr>\n",
       "    <tr>\n",
       "      <th>max</th>\n",
       "      <td>200.000000</td>\n",
       "      <td>296.400000</td>\n",
       "      <td>49.600000</td>\n",
       "      <td>100.900000</td>\n",
       "      <td>27.000000</td>\n",
       "    </tr>\n",
       "  </tbody>\n",
       "</table>\n",
       "</div>"
      ],
      "text/plain": [
       "              Sno          TV       Radio   Newspaper       Sales\n",
       "count  197.000000  197.000000  197.000000  197.000000  197.000000\n",
       "mean   101.375635  146.242132   23.152284   30.375635   14.102030\n",
       "std     57.818691   85.439138   14.922793   20.972370    5.192302\n",
       "min      1.000000    0.700000    0.000000    0.300000    1.600000\n",
       "25%     52.000000   74.700000    9.900000   12.900000   10.400000\n",
       "50%    102.000000  149.700000   22.300000   25.900000   12.900000\n",
       "75%    151.000000  218.400000   36.500000   45.100000   17.400000\n",
       "max    200.000000  296.400000   49.600000  100.900000   27.000000"
      ]
     },
     "execution_count": 14,
     "metadata": {},
     "output_type": "execute_result"
    }
   ],
   "source": [
    "adv_df.describe() "
   ]
  },
  {
   "cell_type": "markdown",
   "metadata": {},
   "source": [
    "## Q5 Visualizations"
   ]
  },
  {
   "cell_type": "code",
   "execution_count": 15,
   "metadata": {},
   "outputs": [],
   "source": [
    "get_ipython().magic('matplotlib inline')\n",
    "import seaborn as sn                     #For Visulizations we need to import seaborn and matplotlib libraries\n",
    "import matplotlib.pyplot as plt"
   ]
  },
  {
   "cell_type": "code",
   "execution_count": 21,
   "metadata": {},
   "outputs": [
    {
     "data": {
      "text/plain": [
       "Text(0, 0.5, 'Sales')"
      ]
     },
     "execution_count": 21,
     "metadata": {},
     "output_type": "execute_result"
    },
    {
     "data": {
      "image/png": "[encoded data removed]",
      "text/plain": [
       "<Figure size 432x288 with 1 Axes>"
      ]
     },
     "metadata": {
      "needs_background": "light"
     },
     "output_type": "display_data"
    }
   ],
   "source": [
    "sn.scatterplot(x = 'TV', y = 'Sales', data = adv_df)\n",
    "\n",
    "plt.title(\"TV Budget vs Sales\")\n",
    "plt.xlabel('Tv Budget', fontsize=18)\n",
    "plt.ylabel('Sales', fontsize=16)\n"
   ]
  },
  {
   "cell_type": "code",
   "execution_count": null,
   "metadata": {},
   "outputs": [],
   "source": [
    "#From the above scatter plot we can infer how sales are effected by variation in TV Budget. \n"
   ]
  },
  {
   "cell_type": "code",
   "execution_count": 16,
   "metadata": {},
   "outputs": [
    {
     "data": {
      "image/png": "[encoded data removed]",
      "text/plain": [
       "<Figure size 432x288 with 1 Axes>"
      ]
     },
     "metadata": {
      "needs_background": "light"
     },
     "output_type": "display_data"
    }
   ],
   "source": [
    "sn.lineplot(x = \"Newspaper\", y = \"Sales\", data = adv_df[1:30])\n",
    "plt.show() "
   ]
  },
  {
   "cell_type": "code",
   "execution_count": 47,
   "metadata": {},
   "outputs": [],
   "source": [
    "#From the above plot we can see a random increase and decrease in sales irrespective of TV Budget. \n",
    "#This means there is someother attribute which is effecting sales"
   ]
  },
  {
   "cell_type": "code",
   "execution_count": 17,
   "metadata": {},
   "outputs": [],
   "source": [
    "import warnings\n",
    "warnings.filterwarnings('ignore')\n",
    "#importing warnings to avoid warnings pop ups"
   ]
  },
  {
   "cell_type": "markdown",
   "metadata": {},
   "source": [
    "## Q6 Split the Dataset as Train and Test in the ratio of 70:30"
   ]
  },
  {
   "cell_type": "code",
   "execution_count": 18,
   "metadata": {},
   "outputs": [],
   "source": [
    "import statsmodels.api as sm\n",
    "from sklearn.model_selection import train_test_split\n",
    "import numpy as np\n",
    "X = sm.add_constant( adv_df_encoded )\n",
    "Y = adv_df['Sales']\n",
    "train_X, test_X, train_y, test_y = train_test_split( X, Y, train_size = 0.7, test_size = 0.3, random_state = 30 )\n",
    "#Splitting the dataset into training and validation"
   ]
  },
  {
   "cell_type": "markdown",
   "metadata": {},
   "source": [
    "## Q7 Checking the model fit"
   ]
  },
  {
   "cell_type": "code",
   "execution_count": 19,
   "metadata": {},
   "outputs": [
    {
     "data": {
      "text/html": [
       "<table class=\"simpletable\">\n",
       "<tr>\n",
       "        <td>Model:</td>               <td>OLS</td>         <td>Adj. R-squared:</td>    <td>-0.031</td> \n",
       "</tr>\n",
       "<tr>\n",
       "  <td>Dependent Variable:</td>       <td>Sales</td>             <td>AIC:</td>         <td>847.2545</td>\n",
       "</tr>\n",
       "<tr>\n",
       "         <td>Date:</td>        <td>2020-08-12 11:18</td>        <td>BIC:</td>         <td>864.7744</td>\n",
       "</tr>\n",
       "<tr>\n",
       "   <td>No. Observations:</td>         <td>137</td>         <td>Log-Likelihood:</td>    <td>-417.63</td>\n",
       "</tr>\n",
       "<tr>\n",
       "       <td>Df Model:</td>              <td>5</td>           <td>F-statistic:</td>      <td>0.1867</td> \n",
       "</tr>\n",
       "<tr>\n",
       "     <td>Df Residuals:</td>           <td>131</td>       <td>Prob (F-statistic):</td>   <td>0.967</td> \n",
       "</tr>\n",
       "<tr>\n",
       "      <td>R-squared:</td>            <td>0.007</td>            <td>Scale:</td>         <td>27.212</td> \n",
       "</tr>\n",
       "</table>\n",
       "<table class=\"simpletable\">\n",
       "<tr>\n",
       "        <td></td>        <th>Coef.</th>  <th>Std.Err.</th>    <th>t</th>     <th>P>|t|</th> <th>[0.025</th>  <th>0.975]</th> \n",
       "</tr>\n",
       "<tr>\n",
       "  <th>const</th>        <td>11.0112</td>  <td>1.4774</td>  <td>7.4529</td>  <td>0.0000</td> <td>8.0885</td>  <td>13.9340</td>\n",
       "</tr>\n",
       "<tr>\n",
       "  <th>TV</th>           <td>-0.0005</td>  <td>0.0078</td>  <td>-0.0628</td> <td>0.9500</td> <td>-0.0158</td> <td>0.0149</td> \n",
       "</tr>\n",
       "<tr>\n",
       "  <th>Radio</th>        <td>-0.0114</td>  <td>0.0314</td>  <td>-0.3620</td> <td>0.7179</td> <td>-0.0735</td> <td>0.0507</td> \n",
       "</tr>\n",
       "<tr>\n",
       "  <th>Newspaper</th>    <td>-0.0098</td>  <td>0.0237</td>  <td>-0.4134</td> <td>0.6800</td> <td>-0.0566</td> <td>0.0371</td> \n",
       "</tr>\n",
       "<tr>\n",
       "  <th>Day_Holiday</th>  <td>2.9749</td>   <td>2.1219</td>  <td>1.4020</td>  <td>0.1633</td> <td>-1.2227</td> <td>7.1724</td> \n",
       "</tr>\n",
       "<tr>\n",
       "  <th>Day_Weekdays</th> <td>3.5996</td>   <td>0.8673</td>  <td>4.1506</td>  <td>0.0001</td> <td>1.8840</td>  <td>5.3153</td> \n",
       "</tr>\n",
       "<tr>\n",
       "  <th>Day_Weekend</th>  <td>4.4368</td>   <td>1.2614</td>  <td>3.5172</td>  <td>0.0006</td> <td>1.9413</td>  <td>6.9322</td> \n",
       "</tr>\n",
       "</table>\n",
       "<table class=\"simpletable\">\n",
       "<tr>\n",
       "     <td>Omnibus:</td>    <td>4.082</td>  <td>Durbin-Watson:</td>          <td>1.968</td>       \n",
       "</tr>\n",
       "<tr>\n",
       "  <td>Prob(Omnibus):</td> <td>0.130</td> <td>Jarque-Bera (JB):</td>        <td>3.841</td>       \n",
       "</tr>\n",
       "<tr>\n",
       "       <td>Skew:</td>     <td>0.347</td>     <td>Prob(JB):</td>            <td>0.147</td>       \n",
       "</tr>\n",
       "<tr>\n",
       "     <td>Kurtosis:</td>   <td>2.563</td>  <td>Condition No.:</td>   <td>2609206712289491968</td>\n",
       "</tr>\n",
       "</table>"
      ],
      "text/plain": [
       "<class 'statsmodels.iolib.summary2.Summary'>\n",
       "\"\"\"\n",
       "                 Results: Ordinary least squares\n",
       "=================================================================\n",
       "Model:              OLS              Adj. R-squared:     -0.031  \n",
       "Dependent Variable: Sales            AIC:                847.2545\n",
       "Date:               2020-08-12 11:18 BIC:                864.7744\n",
       "No. Observations:   137              Log-Likelihood:     -417.63 \n",
       "Df Model:           5                F-statistic:        0.1867  \n",
       "Df Residuals:       131              Prob (F-statistic): 0.967   \n",
       "R-squared:          0.007            Scale:              27.212  \n",
       "------------------------------------------------------------------\n",
       "               Coef.   Std.Err.     t     P>|t|    [0.025   0.975]\n",
       "------------------------------------------------------------------\n",
       "const         11.0112    1.4774   7.4529  0.0000   8.0885  13.9340\n",
       "TV            -0.0005    0.0078  -0.0628  0.9500  -0.0158   0.0149\n",
       "Radio         -0.0114    0.0314  -0.3620  0.7179  -0.0735   0.0507\n",
       "Newspaper     -0.0098    0.0237  -0.4134  0.6800  -0.0566   0.0371\n",
       "Day_Holiday    2.9749    2.1219   1.4020  0.1633  -1.2227   7.1724\n",
       "Day_Weekdays   3.5996    0.8673   4.1506  0.0001   1.8840   5.3153\n",
       "Day_Weekend    4.4368    1.2614   3.5172  0.0006   1.9413   6.9322\n",
       "-----------------------------------------------------------------\n",
       "Omnibus:          4.082   Durbin-Watson:      1.968              \n",
       "Prob(Omnibus):    0.130   Jarque-Bera (JB):   3.841              \n",
       "Skew:             0.347   Prob(JB):           0.147              \n",
       "Kurtosis:         2.563   Condition No.:      2609206712289491968\n",
       "=================================================================\n",
       "* The condition number is large (3e+18). This might indicate\n",
       "strong multicollinearity or other numerical problems.\n",
       "\"\"\""
      ]
     },
     "execution_count": 19,
     "metadata": {},
     "output_type": "execute_result"
    }
   ],
   "source": [
    "adv_df_model_1 = sm.OLS(train_y, train_X).fit()\n",
    "adv_df_model_1.summary2()\n",
    "#Fitting the model and obtaining the model summary"
   ]
  },
  {
   "cell_type": "code",
   "execution_count": null,
   "metadata": {},
   "outputs": [],
   "source": [
    "#From the above model summary we can infer that the value of D-W test is close to 2. This implies absence of autocorrelation"
   ]
  },
  {
   "cell_type": "markdown",
   "metadata": {},
   "source": [
    "## Check for Multicollinearity"
   ]
  },
  {
   "cell_type": "code",
   "execution_count": 20,
   "metadata": {},
   "outputs": [],
   "source": [
    "import statsmodels.api as sm\n",
    "from statsmodels.stats.outliers_influence import variance_inflation_factor\n",
    "def get_vif_factors( X ):\n",
    "    X_matrix = X.to_numpy()\n",
    "    vif = [ variance_inflation_factor( X_matrix, i ) for i in range( X_matrix.shape[1] ) ]\n",
    "    vif_factors = pd.DataFrame()\n",
    "    vif_factors['column'] = X.columns\n",
    "    vif_factors['vif'] = vif\n",
    "    return vif_factors"
   ]
  },
  {
   "cell_type": "code",
   "execution_count": 21,
   "metadata": {},
   "outputs": [
    {
     "data": {
      "text/html": [
       "<div>\n",
       "<style scoped>\n",
       "    .dataframe tbody tr th:only-of-type {\n",
       "        vertical-align: middle;\n",
       "    }\n",
       "\n",
       "    .dataframe tbody tr th {\n",
       "        vertical-align: top;\n",
       "    }\n",
       "\n",
       "    .dataframe thead th {\n",
       "        text-align: right;\n",
       "    }\n",
       "</style>\n",
       "<table border=\"1\" class=\"dataframe\">\n",
       "  <thead>\n",
       "    <tr style=\"text-align: right;\">\n",
       "      <th></th>\n",
       "      <th>column</th>\n",
       "      <th>vif</th>\n",
       "    </tr>\n",
       "  </thead>\n",
       "  <tbody>\n",
       "    <tr>\n",
       "      <th>0</th>\n",
       "      <td>TV</td>\n",
       "      <td>1.979924</td>\n",
       "    </tr>\n",
       "    <tr>\n",
       "      <th>1</th>\n",
       "      <td>Radio</td>\n",
       "      <td>1.155789</td>\n",
       "    </tr>\n",
       "    <tr>\n",
       "      <th>2</th>\n",
       "      <td>Newspaper</td>\n",
       "      <td>1.169096</td>\n",
       "    </tr>\n",
       "    <tr>\n",
       "      <th>3</th>\n",
       "      <td>Day_Holiday</td>\n",
       "      <td>1.441919</td>\n",
       "    </tr>\n",
       "    <tr>\n",
       "      <th>4</th>\n",
       "      <td>Day_Weekdays</td>\n",
       "      <td>5.846296</td>\n",
       "    </tr>\n",
       "    <tr>\n",
       "      <th>5</th>\n",
       "      <td>Day_Weekend</td>\n",
       "      <td>5.383447</td>\n",
       "    </tr>\n",
       "  </tbody>\n",
       "</table>\n",
       "</div>"
      ],
      "text/plain": [
       "         column       vif\n",
       "0            TV  1.979924\n",
       "1         Radio  1.155789\n",
       "2     Newspaper  1.169096\n",
       "3   Day_Holiday  1.441919\n",
       "4  Day_Weekdays  5.846296\n",
       "5   Day_Weekend  5.383447"
      ]
     },
     "execution_count": 21,
     "metadata": {},
     "output_type": "execute_result"
    }
   ],
   "source": [
    "vif_factors = get_vif_factors( X[adv_df_encoded.columns] )\n",
    "vif_factors"
   ]
  },
  {
   "cell_type": "code",
   "execution_count": 22,
   "metadata": {},
   "outputs": [],
   "source": [
    "columns_with_large_vif = vif_factors[vif_factors.vif > 4]"
   ]
  },
  {
   "cell_type": "code",
   "execution_count": 23,
   "metadata": {},
   "outputs": [
    {
     "name": "stdout",
     "output_type": "stream",
     "text": [
      "         column       vif\n",
      "4  Day_Weekdays  5.846296\n",
      "5   Day_Weekend  5.383447\n"
     ]
    }
   ],
   "source": [
    "print(columns_with_large_vif)"
   ]
  },
  {
   "cell_type": "code",
   "execution_count": 24,
   "metadata": {},
   "outputs": [],
   "source": [
    "columns_to_be_removed = ['Day_Weekdays']"
   ]
  },
  {
   "cell_type": "code",
   "execution_count": 25,
   "metadata": {},
   "outputs": [],
   "source": [
    "X_new_features = list( set(adv_df_encoded) - set(columns_to_be_removed) ) \n",
    "#Columns with VIF greater than 4 are being removed to avoid multicollinearity"
   ]
  },
  {
   "cell_type": "code",
   "execution_count": 26,
   "metadata": {},
   "outputs": [
    {
     "name": "stdout",
     "output_type": "stream",
     "text": [
      "['Radio', 'Day_Weekend', 'TV', 'Newspaper', 'Day_Holiday']\n"
     ]
    }
   ],
   "source": [
    "print(X_new_features)"
   ]
  },
  {
   "cell_type": "code",
   "execution_count": 27,
   "metadata": {},
   "outputs": [
    {
     "data": {
      "text/html": [
       "<table class=\"simpletable\">\n",
       "<tr>\n",
       "          <td>Model:</td>                 <td>OLS</td>       <td>Adj. R-squared (uncentered):</td>   <td>0.750</td> \n",
       "</tr>\n",
       "<tr>\n",
       "    <td>Dependent Variable:</td>         <td>Sales</td>                  <td>AIC:</td>             <td>946.5066</td>\n",
       "</tr>\n",
       "<tr>\n",
       "           <td>Date:</td>          <td>2020-08-12 11:19</td>             <td>BIC:</td>             <td>961.1065</td>\n",
       "</tr>\n",
       "<tr>\n",
       "     <td>No. Observations:</td>           <td>137</td>              <td>Log-Likelihood:</td>        <td>-468.25</td>\n",
       "</tr>\n",
       "<tr>\n",
       "         <td>Df Model:</td>                <td>5</td>                <td>F-statistic:</td>           <td>83.29</td> \n",
       "</tr>\n",
       "<tr>\n",
       "       <td>Df Residuals:</td>             <td>132</td>            <td>Prob (F-statistic):</td>     <td>4.14e-39</td>\n",
       "</tr>\n",
       "<tr>\n",
       "  <td>R-squared (uncentered):</td>       <td>0.759</td>                 <td>Scale:</td>             <td>56.549</td> \n",
       "</tr>\n",
       "</table>\n",
       "<table class=\"simpletable\">\n",
       "<tr>\n",
       "       <td></td>        <th>Coef.</th>  <th>Std.Err.</th>    <th>t</th>     <th>P>|t|</th>  <th>[0.025</th>  <th>0.975]</th> \n",
       "</tr>\n",
       "<tr>\n",
       "  <th>Radio</th>       <td>0.1442</td>   <td>0.0412</td>  <td>3.5026</td>  <td>0.0006</td>  <td>0.0628</td>  <td>0.2257</td> \n",
       "</tr>\n",
       "<tr>\n",
       "  <th>Day_Weekend</th> <td>-5.7975</td>  <td>2.0715</td>  <td>-2.7987</td> <td>0.0059</td>  <td>-9.8952</td> <td>-1.6998</td>\n",
       "</tr>\n",
       "<tr>\n",
       "  <th>TV</th>          <td>0.0579</td>   <td>0.0087</td>  <td>6.6615</td>  <td>0.0000</td>  <td>0.0407</td>  <td>0.0751</td> \n",
       "</tr>\n",
       "<tr>\n",
       "  <th>Newspaper</th>   <td>0.0578</td>   <td>0.0331</td>  <td>1.7437</td>  <td>0.0835</td>  <td>-0.0078</td> <td>0.1234</td> \n",
       "</tr>\n",
       "<tr>\n",
       "  <th>Day_Holiday</th> <td>-7.4459</td>  <td>4.0391</td>  <td>-1.8434</td> <td>0.0675</td> <td>-15.4357</td> <td>0.5439</td> \n",
       "</tr>\n",
       "</table>\n",
       "<table class=\"simpletable\">\n",
       "<tr>\n",
       "     <td>Omnibus:</td>    <td>0.237</td>  <td>Durbin-Watson:</td>   <td>1.849</td>\n",
       "</tr>\n",
       "<tr>\n",
       "  <td>Prob(Omnibus):</td> <td>0.888</td> <td>Jarque-Bera (JB):</td> <td>0.316</td>\n",
       "</tr>\n",
       "<tr>\n",
       "       <td>Skew:</td>     <td>0.096</td>     <td>Prob(JB):</td>     <td>0.854</td>\n",
       "</tr>\n",
       "<tr>\n",
       "     <td>Kurtosis:</td>   <td>2.863</td>  <td>Condition No.:</td>   <td>1111</td> \n",
       "</tr>\n",
       "</table>"
      ],
      "text/plain": [
       "<class 'statsmodels.iolib.summary2.Summary'>\n",
       "\"\"\"\n",
       "                       Results: Ordinary least squares\n",
       "==============================================================================\n",
       "Model:                  OLS              Adj. R-squared (uncentered): 0.750   \n",
       "Dependent Variable:     Sales            AIC:                         946.5066\n",
       "Date:                   2020-08-12 11:19 BIC:                         961.1065\n",
       "No. Observations:       137              Log-Likelihood:              -468.25 \n",
       "Df Model:               5                F-statistic:                 83.29   \n",
       "Df Residuals:           132              Prob (F-statistic):          4.14e-39\n",
       "R-squared (uncentered): 0.759            Scale:                       56.549  \n",
       "---------------------------------------------------------------------------------\n",
       "                   Coef.     Std.Err.       t       P>|t|      [0.025      0.975]\n",
       "---------------------------------------------------------------------------------\n",
       "Radio              0.1442      0.0412     3.5026    0.0006      0.0628     0.2257\n",
       "Day_Weekend       -5.7975      2.0715    -2.7987    0.0059     -9.8952    -1.6998\n",
       "TV                 0.0579      0.0087     6.6615    0.0000      0.0407     0.0751\n",
       "Newspaper          0.0578      0.0331     1.7437    0.0835     -0.0078     0.1234\n",
       "Day_Holiday       -7.4459      4.0391    -1.8434    0.0675    -15.4357     0.5439\n",
       "------------------------------------------------------------------------------\n",
       "Omnibus:                   0.237            Durbin-Watson:               1.849\n",
       "Prob(Omnibus):             0.888            Jarque-Bera (JB):            0.316\n",
       "Skew:                      0.096            Prob(JB):                    0.854\n",
       "Kurtosis:                  2.863            Condition No.:               1111 \n",
       "==============================================================================\n",
       "* The condition number is large (1e+03). This might indicate\n",
       "strong multicollinearity or other numerical problems.\n",
       "\"\"\""
      ]
     },
     "execution_count": 27,
     "metadata": {},
     "output_type": "execute_result"
    }
   ],
   "source": [
    "train_X = train_X[X_new_features]\n",
    "adv_df_model_2 = sm.OLS(train_y, train_X).fit()\n",
    "adv_df_model_2.summary2()"
   ]
  },
  {
   "cell_type": "markdown",
   "metadata": {},
   "source": [
    "## Checking for Normality"
   ]
  },
  {
   "cell_type": "code",
   "execution_count": 28,
   "metadata": {},
   "outputs": [],
   "source": [
    "import matplotlib.pyplot as plt\n",
    "import seaborn as sn\n",
    "%matplotlib inline\n",
    "def draw_pp_plot( model, title ):\n",
    "    probplot = sm.ProbPlot( model.resid );\n",
    "    plt.figure( figsize = (8, 6) );\n",
    "    probplot.ppplot( line='45' );\n",
    "    plt.title( title );\n",
    "    plt.show();"
   ]
  },
  {
   "cell_type": "code",
   "execution_count": 29,
   "metadata": {},
   "outputs": [
    {
     "data": {
      "text/plain": [
       "<Figure size 576x432 with 0 Axes>"
      ]
     },
     "metadata": {},
     "output_type": "display_data"
    },
    {
     "data": {
      "image/png": "[encoded data removed]",
      "text/plain": [
       "<Figure size 432x288 with 1 Axes>"
      ]
     },
     "metadata": {
      "needs_background": "light"
     },
     "output_type": "display_data"
    }
   ],
   "source": [
    "draw_pp_plot( adv_df_model_2, \"Normal P-P Plot of Regression Standardized Residuals\");\n"
   ]
  },
  {
   "cell_type": "code",
   "execution_count": 30,
   "metadata": {},
   "outputs": [
    {
     "name": "stdout",
     "output_type": "stream",
     "text": [
      "Number of variables: 5  and number of observations: 137\n"
     ]
    }
   ],
   "source": [
    "k = train_X.shape[1]\n",
    "n = train_X.shape[0]\n",
    "\n",
    "print( \"Number of variables:\", k, \" and number of observations:\", n)"
   ]
  },
  {
   "cell_type": "code",
   "execution_count": 31,
   "metadata": {},
   "outputs": [
    {
     "name": "stdout",
     "output_type": "stream",
     "text": [
      "Number of variables: 5  and number of observations: 137\n",
      "Cutoff for leverage value:  0.131\n"
     ]
    }
   ],
   "source": [
    "k = train_X.shape[1]\n",
    "n = train_X.shape[0]                       #Obtaining leverage values\n",
    "print( \"Number of variables:\", k, \" and number of observations:\", n)\n",
    "leverage_cutoff = 3*((k + 1)/n)\n",
    "print( \"Cutoff for leverage value: \", round(leverage_cutoff, 3) )"
   ]
  },
  {
   "cell_type": "code",
   "execution_count": 32,
   "metadata": {},
   "outputs": [
    {
     "data": {
      "image/png": "[encoded data removed]",
      "text/plain": [
       "<Figure size 576x432 with 1 Axes>"
      ]
     },
     "metadata": {
      "needs_background": "light"
     },
     "output_type": "display_data"
    }
   ],
   "source": [
    "from statsmodels.graphics.regressionplots import influence_plot\n",
    "fig, ax = plt.subplots( figsize=(8,6) )\n",
    "influence_plot( adv_df_model_2, ax = ax )\n",
    "plt.title( \"Figure 4.7 - Leverage Value Vs Residuals\")\n",
    "plt.show()"
   ]
  },
  {
   "cell_type": "code",
   "execution_count": 33,
   "metadata": {},
   "outputs": [
    {
     "data": {
      "text/html": [
       "<div>\n",
       "<style scoped>\n",
       "    .dataframe tbody tr th:only-of-type {\n",
       "        vertical-align: middle;\n",
       "    }\n",
       "\n",
       "    .dataframe tbody tr th {\n",
       "        vertical-align: top;\n",
       "    }\n",
       "\n",
       "    .dataframe thead th {\n",
       "        text-align: right;\n",
       "    }\n",
       "</style>\n",
       "<table border=\"1\" class=\"dataframe\">\n",
       "  <thead>\n",
       "    <tr style=\"text-align: right;\">\n",
       "      <th></th>\n",
       "      <th>Sno</th>\n",
       "      <th>TV</th>\n",
       "      <th>Radio</th>\n",
       "      <th>Newspaper</th>\n",
       "      <th>Day</th>\n",
       "      <th>Sales</th>\n",
       "    </tr>\n",
       "  </thead>\n",
       "  <tbody>\n",
       "    <tr>\n",
       "      <th>131</th>\n",
       "      <td>132</td>\n",
       "      <td>265.2</td>\n",
       "      <td>2.9</td>\n",
       "      <td>43.0</td>\n",
       "      <td>Holiday</td>\n",
       "      <td>24.4</td>\n",
       "    </tr>\n",
       "    <tr>\n",
       "      <th>165</th>\n",
       "      <td>166</td>\n",
       "      <td>234.5</td>\n",
       "      <td>3.4</td>\n",
       "      <td>84.8</td>\n",
       "      <td>Weekend</td>\n",
       "      <td>25.4</td>\n",
       "    </tr>\n",
       "    <tr>\n",
       "      <th>198</th>\n",
       "      <td>199</td>\n",
       "      <td>283.6</td>\n",
       "      <td>42.0</td>\n",
       "      <td>66.2</td>\n",
       "      <td>Holiday</td>\n",
       "      <td>4.8</td>\n",
       "    </tr>\n",
       "  </tbody>\n",
       "</table>\n",
       "</div>"
      ],
      "text/plain": [
       "     Sno     TV  Radio  Newspaper      Day  Sales\n",
       "131  132  265.2    2.9       43.0  Holiday   24.4\n",
       "165  166  234.5    3.4       84.8  Weekend   25.4\n",
       "198  199  283.6   42.0       66.2  Holiday    4.8"
      ]
     },
     "execution_count": 33,
     "metadata": {},
     "output_type": "execute_result"
    }
   ],
   "source": [
    "adv_df[adv_df.index.isin( [131, 198, 165] )]      #These are large residuals which influence the overall fit of regression"
   ]
  },
  {
   "cell_type": "code",
   "execution_count": 34,
   "metadata": {},
   "outputs": [],
   "source": [
    "train_X_new = train_X.drop( [131, 165, 198], axis = 0)\n",
    "train_y_new = train_y.drop( [131, 165, 198], axis = 0)        #Dropping larger residuals to enhance the model"
   ]
  },
  {
   "cell_type": "code",
   "execution_count": 35,
   "metadata": {},
   "outputs": [],
   "source": [
    "import numpy as np\n",
    "train_y = np.sqrt( train_y )"
   ]
  },
  {
   "cell_type": "code",
   "execution_count": 36,
   "metadata": {},
   "outputs": [
    {
     "data": {
      "text/html": [
       "<table class=\"simpletable\">\n",
       "<tr>\n",
       "          <td>Model:</td>                 <td>OLS</td>       <td>Adj. R-squared (uncentered):</td>   <td>0.826</td> \n",
       "</tr>\n",
       "<tr>\n",
       "    <td>Dependent Variable:</td>         <td>Sales</td>                  <td>AIC:</td>             <td>517.0435</td>\n",
       "</tr>\n",
       "<tr>\n",
       "           <td>Date:</td>          <td>2020-08-12 11:19</td>             <td>BIC:</td>             <td>531.6434</td>\n",
       "</tr>\n",
       "<tr>\n",
       "     <td>No. Observations:</td>           <td>137</td>              <td>Log-Likelihood:</td>        <td>-253.52</td>\n",
       "</tr>\n",
       "<tr>\n",
       "         <td>Df Model:</td>                <td>5</td>                <td>F-statistic:</td>           <td>131.2</td> \n",
       "</tr>\n",
       "<tr>\n",
       "       <td>Df Residuals:</td>             <td>132</td>            <td>Prob (F-statistic):</td>     <td>1.98e-49</td>\n",
       "</tr>\n",
       "<tr>\n",
       "  <td>R-squared (uncentered):</td>       <td>0.832</td>                 <td>Scale:</td>             <td>2.4605</td> \n",
       "</tr>\n",
       "</table>\n",
       "<table class=\"simpletable\">\n",
       "<tr>\n",
       "       <td></td>        <th>Coef.</th>  <th>Std.Err.</th>    <th>t</th>     <th>P>|t|</th> <th>[0.025</th>  <th>0.975]</th> \n",
       "</tr>\n",
       "<tr>\n",
       "  <th>Radio</th>       <td>0.0388</td>   <td>0.0086</td>  <td>4.5117</td>  <td>0.0000</td> <td>0.0218</td>  <td>0.0557</td> \n",
       "</tr>\n",
       "<tr>\n",
       "  <th>Day_Weekend</th> <td>-1.5917</td>  <td>0.4321</td>  <td>-3.6836</td> <td>0.0003</td> <td>-2.4464</td> <td>-0.7370</td>\n",
       "</tr>\n",
       "<tr>\n",
       "  <th>TV</th>          <td>0.0150</td>   <td>0.0018</td>  <td>8.2516</td>  <td>0.0000</td> <td>0.0114</td>  <td>0.0185</td> \n",
       "</tr>\n",
       "<tr>\n",
       "  <th>Newspaper</th>   <td>0.0159</td>   <td>0.0069</td>  <td>2.2967</td>  <td>0.0232</td> <td>0.0022</td>  <td>0.0296</td> \n",
       "</tr>\n",
       "<tr>\n",
       "  <th>Day_Holiday</th> <td>-1.9241</td>  <td>0.8425</td>  <td>-2.2837</td> <td>0.0240</td> <td>-3.5907</td> <td>-0.2575</td>\n",
       "</tr>\n",
       "</table>\n",
       "<table class=\"simpletable\">\n",
       "<tr>\n",
       "     <td>Omnibus:</td>     <td>0.507</td>  <td>Durbin-Watson:</td>   <td>1.788</td>\n",
       "</tr>\n",
       "<tr>\n",
       "  <td>Prob(Omnibus):</td>  <td>0.776</td> <td>Jarque-Bera (JB):</td> <td>0.655</td>\n",
       "</tr>\n",
       "<tr>\n",
       "       <td>Skew:</td>     <td>-0.097</td>     <td>Prob(JB):</td>     <td>0.721</td>\n",
       "</tr>\n",
       "<tr>\n",
       "     <td>Kurtosis:</td>    <td>2.722</td>  <td>Condition No.:</td>   <td>1111</td> \n",
       "</tr>\n",
       "</table>"
      ],
      "text/plain": [
       "<class 'statsmodels.iolib.summary2.Summary'>\n",
       "\"\"\"\n",
       "                       Results: Ordinary least squares\n",
       "==============================================================================\n",
       "Model:                  OLS              Adj. R-squared (uncentered): 0.826   \n",
       "Dependent Variable:     Sales            AIC:                         517.0435\n",
       "Date:                   2020-08-12 11:19 BIC:                         531.6434\n",
       "No. Observations:       137              Log-Likelihood:              -253.52 \n",
       "Df Model:               5                F-statistic:                 131.2   \n",
       "Df Residuals:           132              Prob (F-statistic):          1.98e-49\n",
       "R-squared (uncentered): 0.832            Scale:                       2.4605  \n",
       "---------------------------------------------------------------------------------\n",
       "                    Coef.     Std.Err.       t       P>|t|      [0.025     0.975]\n",
       "---------------------------------------------------------------------------------\n",
       "Radio               0.0388      0.0086     4.5117    0.0000     0.0218     0.0557\n",
       "Day_Weekend        -1.5917      0.4321    -3.6836    0.0003    -2.4464    -0.7370\n",
       "TV                  0.0150      0.0018     8.2516    0.0000     0.0114     0.0185\n",
       "Newspaper           0.0159      0.0069     2.2967    0.0232     0.0022     0.0296\n",
       "Day_Holiday        -1.9241      0.8425    -2.2837    0.0240    -3.5907    -0.2575\n",
       "------------------------------------------------------------------------------\n",
       "Omnibus:                  0.507             Durbin-Watson:               1.788\n",
       "Prob(Omnibus):            0.776             Jarque-Bera (JB):            0.655\n",
       "Skew:                     -0.097            Prob(JB):                    0.721\n",
       "Kurtosis:                 2.722             Condition No.:               1111 \n",
       "==============================================================================\n",
       "* The condition number is large (1e+03). This might indicate\n",
       "strong multicollinearity or other numerical problems.\n",
       "\"\"\""
      ]
     },
     "execution_count": 36,
     "metadata": {},
     "output_type": "execute_result"
    }
   ],
   "source": [
    "adv_df_model3 = sm.OLS(train_y, train_X).fit()\n",
    "adv_df_model3.summary2()"
   ]
  },
  {
   "cell_type": "code",
   "execution_count": 37,
   "metadata": {},
   "outputs": [
    {
     "data": {
      "text/plain": [
       "<Figure size 576x432 with 0 Axes>"
      ]
     },
     "metadata": {},
     "output_type": "display_data"
    },
    {
     "data": {
      "image/png": "[encoded data removed]",
      "text/plain": [
       "<Figure size 432x288 with 1 Axes>"
      ]
     },
     "metadata": {
      "needs_background": "light"
     },
     "output_type": "display_data"
    }
   ],
   "source": [
    "draw_pp_plot( adv_df_model3,\"Normal P-P Plot of Regression Standardized Residuals\");"
   ]
  },
  {
   "cell_type": "code",
   "execution_count": 38,
   "metadata": {},
   "outputs": [],
   "source": [
    "pred_y = np.power(adv_df_model3.predict( test_X[train_X.columns] ), 2)"
   ]
  },
  {
   "cell_type": "markdown",
   "metadata": {},
   "source": [
    "## RMSE"
   ]
  },
  {
   "cell_type": "code",
   "execution_count": 39,
   "metadata": {},
   "outputs": [
    {
     "data": {
      "text/plain": [
       "8.62755586624553"
      ]
     },
     "execution_count": 39,
     "metadata": {},
     "output_type": "execute_result"
    }
   ],
   "source": [
    "from sklearn import metrics\n",
    "np.sqrt(metrics.mean_squared_error(pred_y, test_y))"
   ]
  },
  {
   "cell_type": "code",
   "execution_count": null,
   "metadata": {},
   "outputs": [],
   "source": []
  }
 ],
 "metadata": {
  "kernelspec": {
   "display_name": "Python 3",
   "language": "python",
   "name": "python3"
  },
  "language_info": {
   "codemirror_mode": {
    "name": "ipython",
    "version": 3
   },
   "file_extension": ".py",
   "mimetype": "text/x-python",
   "name": "python",
   "nbconvert_exporter": "python",
   "pygments_lexer": "ipython3",
   "version": "3.7.6"
  }
 },
 "nbformat": 4,
 "nbformat_minor": 4
}
